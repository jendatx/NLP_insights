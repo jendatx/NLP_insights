{
 "cells": [
  {
   "cell_type": "markdown",
   "metadata": {},
   "source": [
    "Strategy: use vocabulary words (clustered in an unsupervised way) to find frequent patterns in forum posts"
   ]
  },
  {
   "cell_type": "code",
   "execution_count": 1,
   "metadata": {},
   "outputs": [],
   "source": [
    "# Necessary imports\n",
    "import findspark\n",
    "import matplotlib.pyplot as plt\n",
    "import numpy as np\n",
    "import pandas as pd\n",
    "import pyspark\n",
    "from pyspark.ml.fpm import FPGrowth\n",
    "from pyspark.sql import SparkSession\n",
    "from pyspark.sql.functions import split\n",
    "from sklearn.feature_extraction.text import CountVectorizer"
   ]
  },
  {
   "cell_type": "code",
   "execution_count": 2,
   "metadata": {},
   "outputs": [],
   "source": [
    "# Ship with sample files\n",
    "raw_forum_posts = \"posts_spreadsheet.xlsx\"\n",
    "pvocab_file = \"pvocab.txt\"\n",
    "post_baskets_for_analysis = \"pvocab_baskets.txt\""
   ]
  },
  {
   "cell_type": "code",
   "execution_count": null,
   "metadata": {},
   "outputs": [],
   "source": [
    "# Read in Data & keep only post text for now\n",
    "data = pd.read_excel(raw_forum_posts)\n",
    "posts_text = data.filter(items=['content'])\n",
    "\n",
    "# rm posts with no content\n",
    "posts_text.dropna(subset=['content'],inplace=True)\n",
    "\n",
    "# rm posts with only non-alpha content \n",
    "posts_text['content_type'] = posts_text.apply(lambda x: type(x.content),axis=1)\n",
    "non_alpha_post_rows = posts_text.loc[posts_text.content_type != posts_text.content_type.value_counts().index[0]]\n",
    "posts_text.drop(index=non_alpha_post_rows.index,inplace=True)\n",
    "print(\"Now have {:d} posts to analyze\".format(posts_text.shape[0]))\n",
    "total_posts = posts_text.shape[0]"
   ]
  },
  {
   "cell_type": "markdown",
   "metadata": {},
   "source": [
    "Feed in clusters pruned by a human (as in human can \"hide\" misc. clusters)\n",
    "\n",
    "Load in a text file of Palavarous vocab by cluster below.\n",
    "The format of the file is currently like:\n",
    "```\n",
    "Nutrition: vitamin, supplement, recipe, dairy, vegetables, fruit, weight, lbs\n",
    "# Ambiguous:  back (as rear of torso, or \"back to drugA\") \n",
    "```\n",
    "One can cull the vocab for a market basket analysis just by commenting-out a line of cluster terms ('#' should be first char in line to ignore). IMPORTANT NOTE: posts that don't have any of the fed vocab are REMOVED from the pipeline, so this will narrow the posts you analyze. This means we're saying \"Given they are talking about (the tests cluster you fed into vocab), then we're confident they'll talk about (healthcare professionals you fed into vocab). With my trial of ~200 interesting terms, this meant my analysis covered only 70% of available posts, for instance. We'd want to make sure that narrowing of the coverage is communicated clearly to analysts and customers.\n",
    "\n",
    "Our unsupervised clustering technique already provides helpful word counts, and it would make a lot of sense - when automatically extracting vocabularies in future - to ONLY extract from each selected cluster those vocabulary words that meet some occurrence threshold. There's no point extracting a lot of words that will never meet the minSupport threshold used in the FPGrowth algo below."
   ]
  },
  {
   "cell_type": "code",
   "execution_count": null,
   "metadata": {},
   "outputs": [],
   "source": [
    "# Load vocab from text file\n",
    "with open (pvocab_file,'r') as f:\n",
    "    data = f.readlines()  # list of one string per line\n",
    "categories = [cluster.split(':') for cluster in data if not cluster.startswith('#')]\n",
    "pvocab = {category[0]:category[1].strip() for category in categories}\n",
    "for line in pvocab.keys():\n",
    "    pvocab[line] = pvocab[line].split(',')\n",
    "this_vocab = list(pvocab.keys()) # note here I kept the human label e.g. ('Symptoms') as a vocab term; may want this to be a choice\n",
    "for k in pvocab.keys():\n",
    "    this_vocab.extend(pvocab[k])\n",
    "this_vocab = [term.strip().lower() for term in this_vocab]\n",
    "len_vocab = len(this_vocab)\n",
    "print('Now we have {:d} words in our vocab'.format(len_vocab))\n"
   ]
  },
  {
   "cell_type": "markdown",
   "metadata": {},
   "source": [
    "Turn the above posts into a matrix. (I think of using binary on scikit learn's CountVectorizer as essentially a one hot encoder, BUT this class can be modified to take stop-words, lemmatization, etc., which would help make sure we don't throw away rules like \"doctor\" --> \"drugA\" just because a third of the examples used \"doctor\", another third used \"doc\", and another third used \"dr\".)"
   ]
  },
  {
   "cell_type": "code",
   "execution_count": null,
   "metadata": {},
   "outputs": [],
   "source": [
    "# CountVectorize \n",
    "count_vector = CountVectorizer(vocabulary = this_vocab, binary=True)\n",
    "forum_vects = count_vector.fit_transform(posts_text.content)\n",
    "print('{:d} posts were vectorized and are represented with {} features.'.format(forum_vects.shape[0], forum_vects.shape[1]))"
   ]
  },
  {
   "cell_type": "markdown",
   "metadata": {},
   "source": [
    "Here I do an inverse transform so token_posts sent into the FPGrowth algo in Spark read as \"diapers, beer\" instead of \"123, 788\". This was to make the baskets human-interpretable during the development process, but that's not strictly necessary. As space/network constraints warrant, I've tested (it works just fine) and we can leave the posts represented with integers at runtime, only transforming them back into our vocab words using inverse_transform AFTER baskets/rules get generated."
   ]
  },
  {
   "cell_type": "code",
   "execution_count": null,
   "metadata": {},
   "outputs": [],
   "source": [
    "# Inverse transformation of posts into vocab representations\n",
    "ohe_pvocab = count_vector.inverse_transform(forum_vects)\n",
    "token_posts = [post for post in ohe_pvocab if len(post)>0]\n",
    "num_matching_posts = len(token_posts)\n",
    "print(\"The selected vocabulary eliminates {:.1%} of the provided posts from your analysis\".format((total_posts - len(token_posts))/total_posts))\n",
    "print(\"Any findings from this tool will represent {:d} total posts altogether\".format(num_matching_posts))"
   ]
  },
  {
   "cell_type": "code",
   "execution_count": 7,
   "metadata": {},
   "outputs": [
    {
     "data": {
      "image/png": "[encoded data removed]",
      "text/plain": [
       "<Figure size 432x288 with 1 Axes>"
      ]
     },
     "metadata": {
      "needs_background": "light"
     },
     "output_type": "display_data"
    }
   ],
   "source": [
    "# Visualize post data we'll be keeping\n",
    "pvocab_ohe = forum_vects.toarray()\n",
    "post_sums = np.sum(pvocab_ohe, axis=1)\n",
    "pandify = pd.Series(post_sums)\n",
    "plt.plot(pandify.value_counts(), label = 'Num vocab words per post')\n",
    "plt.xlabel('This many of your vocab words in the post')\n",
    "plt.ylabel('Count of posts with >0 words of your vocab')\n",
    "plt.title(\"How Your Vocab is Reflected in Posts\")\n",
    "plt.legend()\n",
    "plt.show()"
   ]
  },
  {
   "cell_type": "code",
   "execution_count": 8,
   "metadata": {},
   "outputs": [],
   "source": [
    "# Save matrix off in format easiest to load in spark\n",
    "baskets = np.array(token_posts)\n",
    "with open(post_baskets_for_analysis,\"w\") as f:\n",
    "    f.write(\"\\n\".join(\",\".join(map(str, x)) for x in baskets))"
   ]
  },
  {
   "cell_type": "markdown",
   "metadata": {},
   "source": [
    "Begin mining for frequent patterns and association rules in Spark"
   ]
  },
  {
   "cell_type": "code",
   "execution_count": 9,
   "metadata": {},
   "outputs": [],
   "source": [
    "# Here's the start-up of Spark\n",
    "findspark.init()\n",
    "\n",
    "spark = SparkSession.builder \\\n",
    "        .master(\"local\") \\\n",
    "        .appName(\"PostVocabPatterns\") \\\n",
    "        .getOrCreate()"
   ]
  },
  {
   "cell_type": "code",
   "execution_count": null,
   "metadata": {},
   "outputs": [],
   "source": [
    "posts_matrix = post_baskets_for_analysis\n",
    "data = (spark.read\n",
    "    .text(posts_matrix)\n",
    "    .select(split(\"value\", \",\").alias(\"items\")))\n",
    "post_count = data.count()\n",
    "print(post_count, \"count of posts being analyzed for frequent patterns in vocabulary\")"
   ]
  },
  {
   "cell_type": "code",
   "execution_count": 11,
   "metadata": {},
   "outputs": [],
   "source": [
    "# This is where the operation graph is defined (NOT where it is executed)\n",
    "# See scalability notes below to help pick the minSupport value below\n",
    "min_support = .003\n",
    "min_confidence = 0.8\n",
    "# Further below are notes on the minConfidence.\n",
    "fp = FPGrowth(minSupport=min_support,minConfidence=min_confidence)\n",
    "fpm = fp.fit(data)\n",
    "top_items = fpm.freqItemsets.orderBy([\"freq\"],ascending = False)"
   ]
  },
  {
   "cell_type": "markdown",
   "metadata": {},
   "source": [
    "# Scalability Notes\n",
    "The FPGrowth algorithm builds a special tree (note it is NOT a binary tree) data structure. See this helpful explanation at\n",
    "[Wikipedia](https://en.wikibooks.org/wiki/Data_Mining_Algorithms_In_R/Frequent_Pattern_Mining/The_FP-Growth_Algorithm)\n",
    "\n",
    "\n",
    "The algorithm is efficiently lazy as it does NOT add to its tree any leaves that would fail to meet the minSupport criterion. So the higher (between 0 - 1) you set the required support threshold, the fewer leaves it must attach and consider. \n",
    "\n",
    "On JenD's laptop, with [masked] posts, minSupport of 1/100 ran just fine, but minSupport of 1/1000 was MUCH slower, sometimes didn't complete. So the higher (between 0 - 1) you set the required minSupport threshold, the fewer leaves it must consider, and the faster the algo will run. \n",
    "\n",
    "![FP-tree](https://upload.wikimedia.org/wikipedia/commons/1/1e/FPG_FIG_01.jpg)"
   ]
  },
  {
   "cell_type": "code",
   "execution_count": 12,
   "metadata": {},
   "outputs": [],
   "source": [
    "# BEWARE: This is the Spark action step, where the tree is grown\n",
    "# See the Spark UI to watch progress along the DAG\n",
    "# This algo doesn't have a deterministic BigO notation that I can find, but just building the tree requires 2 passes through the data, plus a frequency sort\n",
    "post_patterns = top_items.toPandas()"
   ]
  },
  {
   "cell_type": "code",
   "execution_count": 13,
   "metadata": {},
   "outputs": [
    {
     "name": "stdout",
     "output_type": "stream",
     "text": [
      "Detected 1094 patterns, including unigram word counts (below is patterns observed per word count, starting with unigrams)\n"
     ]
    },
    {
     "data": {
      "text/plain": [
       "1    173\n",
       "2    708\n",
       "3    196\n",
       "4     17\n",
       "Name: numWords, dtype: int64"
      ]
     },
     "execution_count": 13,
     "metadata": {},
     "output_type": "execute_result"
    }
   ],
   "source": [
    "# Quick analysis of patterns and counts\n",
    "post_patterns.rename(columns={\"items\": \"words\"},inplace=True)\n",
    "print(\"Detected {} patterns, including unigram word counts (below is patterns observed per word count, starting with unigrams)\".format(post_patterns.shape[0]))\n",
    "post_patterns['numWords'] = post_patterns.apply(lambda x: len(x.words),axis=1)\n",
    "post_patterns['freq_pct'] = post_patterns.apply(lambda x: 100*x.freq/total_posts,axis=1)\n",
    "post_patterns.numWords.value_counts().sort_index()"
   ]
  },
  {
   "cell_type": "code",
   "execution_count": null,
   "metadata": {},
   "outputs": [],
   "source": [
    "# Examine sample \"baskets\" that correspond to \"top\" listings per word count\n",
    "print(\"Top frequent patterns observed per word count (note that freq_pct is dividing by ALL {:d} posts for clarity):\".format(total_posts))\n",
    "for i in range(1,int(post_patterns.numWords.value_counts().index.max()+1)):\n",
    "    print(post_patterns[post_patterns.numWords== i][0:10])"
   ]
  },
  {
   "cell_type": "code",
   "execution_count": null,
   "metadata": {},
   "outputs": [],
   "source": [
    "# Finally, these are the association rules that were derived\n",
    "assoc_rules = fpm.associationRules\n",
    "rules = assoc_rules.toPandas()\n",
    "num_rules = len(rules)\n",
    "print(\"Your full corpus of {:d} posts was narrowed to {:d} posts containing your vocabulary of {:d} words.\".format(total_posts,num_matching_posts,len_vocab))\n",
    "print(\"{:d} association rules were generated below for your inspection.\".format(num_rules))\n",
    "print(\"Each pattern was seen in the wild at least {:.0f} times, which is {:.3f} of {}.\".format(min_support*num_matching_posts,min_support,num_matching_posts))\n",
    "print(\"Given presence of the antecedant, the confidence level listed says we'll see the consequent as well.\")\n",
    "print(\"Minimum acceptable confidence was set to {:.1%}.\".format(min_confidence))\n",
    "print(\"ASSOCIATION RULES ******************************\")\n",
    "rules.head(num_rules)"
   ]
  },
  {
   "cell_type": "markdown",
   "metadata": {},
   "source": [
    "Noe: Lift is a measure of how correlated the consequent is to the antecedent. If the consequent appeared completely independently of the antecedent, the lift would be 1. If the lift is 10 and the confidence is .85, then we're 85% confident that  - given we observe the antecedent in a post - we believe we're 10x more likely than usual to observe the consequent as well. "
   ]
  }
 ],
 "metadata": {
  "kernelspec": {
   "display_name": "Python 3",
   "language": "python",
   "name": "python3"
  },
  "language_info": {
   "codemirror_mode": {
    "name": "ipython",
    "version": 3
   },
   "file_extension": ".py",
   "mimetype": "text/x-python",
   "name": "python",
   "nbconvert_exporter": "python",
   "pygments_lexer": "ipython3",
   "version": "3.7.3"
  }
 },
 "nbformat": 4,
 "nbformat_minor": 2
}
