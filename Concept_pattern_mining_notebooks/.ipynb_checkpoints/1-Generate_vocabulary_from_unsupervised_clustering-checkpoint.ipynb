{
 "cells": [
  {
   "cell_type": "markdown",
   "metadata": {
    "ExecuteTime": {
     "end_time": "2019-04-02T17:58:14.225126Z",
     "start_time": "2019-04-02T17:58:11.860938Z"
    },
    "run_control": {
     "marked": false
    }
   },
   "source": [
    "# Strategy: automatically create cluster-specific vocab lists"
   ]
  },
  {
   "cell_type": "code",
   "execution_count": 1,
   "metadata": {},
   "outputs": [],
   "source": [
    "import pandas as pd"
   ]
  },
  {
   "cell_type": "markdown",
   "metadata": {},
   "source": [
    "Some magical proprietary stuff happens here. Skipping to where we have JSON describing unsupervised clusters of unigrams/bigrams."
   ]
  },
  {
   "cell_type": "code",
   "execution_count": 11,
   "metadata": {},
   "outputs": [
    {
     "data": {
      "text/plain": [
       "{'cluster.percentage': 63.23,\n",
       " 'cluster.id': 76,\n",
       " 'cluster.user_label': '[16] Would_could_may',\n",
       " 'cluster.count': 169668,\n",
       " 'cluster.model_label': 16,\n",
       " 'cluster.hidden': False,\n",
       " 'word.pos': None,\n",
       " 'word.id': 4074,\n",
       " 'word.hidden': False,\n",
       " 'word.count': 451,\n",
       " 'word.text': 'don_t',\n",
       " 'word.cluster': 76}"
      ]
     },
     "execution_count": 11,
     "metadata": {},
     "output_type": "execute_result"
    }
   ],
   "source": [
    "WORDS[0]"
   ]
  },
  {
   "cell_type": "code",
   "execution_count": 8,
   "metadata": {
    "ExecuteTime": {
     "end_time": "2019-04-02T18:00:57.122421Z",
     "start_time": "2019-04-02T18:00:57.049229Z"
    }
   },
   "outputs": [
    {
     "name": "stdout",
     "output_type": "stream",
     "text": [
      "Your vocabulary will have 2397 words\n"
     ]
    }
   ],
   "source": [
    "# Now we drop the columns, clusters, and vocab we don't want\n",
    "df_words = pd.DataFrame(WORDS)\n",
    "df_words['word.text'] = df_words['word.text'].apply(lambda x: x.replace(\"_\", ' ')) # unconcat any bigram strings\n",
    "df_words.drop(columns=['cluster.count','cluster.percentage','word.id','word.pos'],inplace=True)\n",
    "df_words = df_words[df_words['cluster.hidden'] == False]\n",
    "df_words = df_words[df_words['word.hidden'] == False]\n",
    "df_words.reset_index(drop=True)\n",
    "df_words.drop(columns=['cluster.id','cluster.hidden','word.cluster','word.hidden'],inplace=True)\n",
    "print(\"Your vocabulary will have {} words\".format(df_words.shape[0]))\n"
   ]
  },
  {
   "cell_type": "code",
   "execution_count": 12,
   "metadata": {},
   "outputs": [
    {
     "data": {
      "text/html": [
       "<div>\n",
       "<style scoped>\n",
       "    .dataframe tbody tr th:only-of-type {\n",
       "        vertical-align: middle;\n",
       "    }\n",
       "\n",
       "    .dataframe tbody tr th {\n",
       "        vertical-align: top;\n",
       "    }\n",
       "\n",
       "    .dataframe thead th {\n",
       "        text-align: right;\n",
       "    }\n",
       "</style>\n",
       "<table border=\"1\" class=\"dataframe\">\n",
       "  <thead>\n",
       "    <tr style=\"text-align: right;\">\n",
       "      <th></th>\n",
       "      <th>cluster.model_label</th>\n",
       "      <th>cluster.user_label</th>\n",
       "      <th>word.count</th>\n",
       "      <th>word.text</th>\n",
       "    </tr>\n",
       "  </thead>\n",
       "  <tbody>\n",
       "    <tr>\n",
       "      <th>0</th>\n",
       "      <td>16</td>\n",
       "      <td>[16] Would_could_may</td>\n",
       "      <td>451</td>\n",
       "      <td>don t</td>\n",
       "    </tr>\n",
       "    <tr>\n",
       "      <th>1</th>\n",
       "      <td>16</td>\n",
       "      <td>[16] Would_could_may</td>\n",
       "      <td>54558</td>\n",
       "      <td>would</td>\n",
       "    </tr>\n",
       "    <tr>\n",
       "      <th>2</th>\n",
       "      <td>16</td>\n",
       "      <td>[16] Would_could_may</td>\n",
       "      <td>35833</td>\n",
       "      <td>could</td>\n",
       "    </tr>\n",
       "    <tr>\n",
       "      <th>3</th>\n",
       "      <td>16</td>\n",
       "      <td>[16] Would_could_may</td>\n",
       "      <td>28207</td>\n",
       "      <td>said</td>\n",
       "    </tr>\n",
       "    <tr>\n",
       "      <th>4</th>\n",
       "      <td>16</td>\n",
       "      <td>[16] Would_could_may</td>\n",
       "      <td>27383</td>\n",
       "      <td>may</td>\n",
       "    </tr>\n",
       "  </tbody>\n",
       "</table>\n",
       "</div>"
      ],
      "text/plain": [
       "   cluster.model_label    cluster.user_label  word.count word.text\n",
       "0                   16  [16] Would_could_may         451     don t\n",
       "1                   16  [16] Would_could_may       54558     would\n",
       "2                   16  [16] Would_could_may       35833     could\n",
       "3                   16  [16] Would_could_may       28207      said\n",
       "4                   16  [16] Would_could_may       27383       may"
      ]
     },
     "execution_count": 12,
     "metadata": {},
     "output_type": "execute_result"
    }
   ],
   "source": [
    "df_words.head()"
   ]
  },
  {
   "cell_type": "code",
   "execution_count": 13,
   "metadata": {},
   "outputs": [],
   "source": [
    "# group the vocabulary by cluster, using the hand-labeled title the analyst input\n",
    "alpha_sorted_vocab_by_cluster = df_words.groupby('cluster.user_label').\\\n",
    "    agg({'word.text':lambda x: sorted(list(x))}).reset_index()"
   ]
  },
  {
   "cell_type": "code",
   "execution_count": 14,
   "metadata": {},
   "outputs": [],
   "source": [
    "# save off the extracted vocabulary (without the user's cluster labels, which would likely be redundant vocab)\n",
    "alpha_sorted_vocab_by_cluster.to_csv(\"Alltime_clusters_vocab_lists.txt\",index=False,header=False)"
   ]
  }
 ],
 "metadata": {
  "kernelspec": {
   "display_name": "Python 3",
   "language": "python",
   "name": "python3"
  },
  "language_info": {
   "codemirror_mode": {
    "name": "ipython",
    "version": 3
   },
   "file_extension": ".py",
   "mimetype": "text/x-python",
   "name": "python",
   "nbconvert_exporter": "python",
   "pygments_lexer": "ipython3",
   "version": "3.7.3"
  },
  "toc": {
   "nav_menu": {},
   "number_sections": true,
   "sideBar": true,
   "skip_h1_title": false,
   "toc_cell": false,
   "toc_position": {},
   "toc_section_display": "block",
   "toc_window_display": false
  }
 },
 "nbformat": 4,
 "nbformat_minor": 2
}
