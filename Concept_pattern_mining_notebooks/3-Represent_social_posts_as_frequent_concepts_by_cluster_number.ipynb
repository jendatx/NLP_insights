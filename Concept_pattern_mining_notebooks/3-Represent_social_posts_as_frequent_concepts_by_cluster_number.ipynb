{
 "cells": [
  {
   "cell_type": "code",
   "execution_count": 57,
   "metadata": {},
   "outputs": [],
   "source": [
    "import pandas as pd\n",
    "import numpy as np\n",
    "pd.set_option('max_colwidth', 1000)"
   ]
  },
  {
   "cell_type": "code",
   "execution_count": 58,
   "metadata": {},
   "outputs": [],
   "source": [
    "# define output file of concept market baskets (which this notebook generates)\n",
    "concept_baskets = \"posts_as_baskets_of_concepts.txt\""
   ]
  },
  {
   "cell_type": "code",
   "execution_count": 73,
   "metadata": {},
   "outputs": [],
   "source": [
    "# load in index of clusters' vocab \n",
    "# the index maps an in-vocabulary word to the ID number of the cluster it came from\n",
    "index_file = \"cluster_vocab_index.txt\"\n",
    "vocab = dict()\n",
    "with open(index_file) as f1:\n",
    "    for line in f1:\n",
    "        if ':' in line:\n",
    "            key,value = line.split(':', 1)\n",
    "            vocab[key] = int(value.strip())\n"
   ]
  },
  {
   "cell_type": "code",
   "execution_count": 60,
   "metadata": {},
   "outputs": [],
   "source": [
    "# load in the lookup table translating cluster id to cluster name (roughly its main concepts)\n",
    "lookup = \"Cluster_lookup_42.csv\"\n",
    "cluster_lookup = pd.read_csv(lookup,header=None,index_col=0,names=['cluster_name'])"
   ]
  },
  {
   "cell_type": "code",
   "execution_count": 61,
   "metadata": {},
   "outputs": [],
   "source": [
    "# load in file of social posts\n",
    "all_posts = \"pulled_posts.csv\"\n",
    "df = pd.read_csv(all_posts)"
   ]
  },
  {
   "cell_type": "code",
   "execution_count": 62,
   "metadata": {},
   "outputs": [],
   "source": [
    "df.dropna(axis=0,subset=['content'],inplace=True)"
   ]
  },
  {
   "cell_type": "code",
   "execution_count": 63,
   "metadata": {},
   "outputs": [
    {
     "data": {
      "text/plain": [
       "(268179, 13)"
      ]
     },
     "execution_count": 63,
     "metadata": {},
     "output_type": "execute_result"
    }
   ],
   "source": [
    "df.shape\n"
   ]
  },
  {
   "cell_type": "code",
   "execution_count": 64,
   "metadata": {},
   "outputs": [],
   "source": [
    "def sub_in_cluster_ID(post,reference_dict):\n",
    "    post_words = post.split()\n",
    "    representation = []\n",
    "    i = 0\n",
    "    while i < len(post_words) - 1:\n",
    "        this_bigram_cluster_num = reference_dict.get(f\"{post_words[i]} {post_words[i+1]}\")\n",
    "        if this_bigram_cluster_num:\n",
    "            # print(f\"Got one: {post_words[i]} {post_words[i+1]} became {this_bigram_cluster_num}\")\n",
    "            representation.append(this_bigram_cluster_num)\n",
    "            i+=2\n",
    "        else:\n",
    "            this_unigram_cluster_num = reference_dict.get(post_words[i])\n",
    "            if this_unigram_cluster_num:\n",
    "                representation.append(this_unigram_cluster_num)\n",
    "            i+=1\n",
    "    if i == len(post_words) - 1:\n",
    "        this_unigram_cluster_num = reference_dict.get(post_words[i]) # should be last word\n",
    "        if this_unigram_cluster_num:\n",
    "            representation.append(this_unigram_cluster_num)\n",
    "    return sorted(set(representation))"
   ]
  },
  {
   "cell_type": "code",
   "execution_count": null,
   "metadata": {},
   "outputs": [],
   "source": [
    "conceptualized_posts = {}\n",
    "for i in range(0,df.shape[0]):\n",
    "    conceptualized_posts[i] = sub_in_cluster_ID(df.iloc[i].content,vocab)"
   ]
  },
  {
   "cell_type": "code",
   "execution_count": 69,
   "metadata": {},
   "outputs": [],
   "source": [
    "# filter out the empty posts (post didn't talk about our 42 concepts)\n",
    "empty_keys = [k for k,v in conceptualized_posts.items() if not v]\n",
    "for k in empty_keys:\n",
    "    del conceptualized_posts[k]"
   ]
  },
  {
   "cell_type": "code",
   "execution_count": 70,
   "metadata": {},
   "outputs": [],
   "source": [
    "# Save posts off in format easiest to load in spark\n",
    "with open(concept_baskets,\"w\") as f:\n",
    "    f.write(\"\\n\".join(\",\".join(map(str, x)) for x in conceptualized_posts.values()))"
   ]
  },
  {
   "cell_type": "code",
   "execution_count": 80,
   "metadata": {},
   "outputs": [
    {
     "ename": "KeyError",
     "evalue": "'will'",
     "output_type": "error",
     "traceback": [
      "\u001b[0;31m---------------------------------------------------------------------------\u001b[0m",
      "\u001b[0;31mKeyError\u001b[0m                                  Traceback (most recent call last)",
      "\u001b[0;32m<ipython-input-80-c29c98bc26d6>\u001b[0m in \u001b[0;36m<module>\u001b[0;34m\u001b[0m\n\u001b[0;32m----> 1\u001b[0;31m \u001b[0mvocab\u001b[0m\u001b[0;34m[\u001b[0m\u001b[0;34m'will'\u001b[0m\u001b[0;34m]\u001b[0m\u001b[0;34m\u001b[0m\u001b[0;34m\u001b[0m\u001b[0m\n\u001b[0m",
      "\u001b[0;31mKeyError\u001b[0m: 'will'"
     ]
    }
   ],
   "source": [
    "# note that words that are more \"certain\" don't even appear\n",
    "vocab['will']"
   ]
  },
  {
   "cell_type": "code",
   "execution_count": 81,
   "metadata": {},
   "outputs": [
    {
     "ename": "KeyError",
     "evalue": "'does'",
     "output_type": "error",
     "traceback": [
      "\u001b[0;31m---------------------------------------------------------------------------\u001b[0m",
      "\u001b[0;31mKeyError\u001b[0m                                  Traceback (most recent call last)",
      "\u001b[0;32m<ipython-input-81-aabca6da2f60>\u001b[0m in \u001b[0;36m<module>\u001b[0;34m\u001b[0m\n\u001b[0;32m----> 1\u001b[0;31m \u001b[0mvocab\u001b[0m\u001b[0;34m[\u001b[0m\u001b[0;34m'does'\u001b[0m\u001b[0;34m]\u001b[0m\u001b[0;34m\u001b[0m\u001b[0;34m\u001b[0m\u001b[0m\n\u001b[0m",
      "\u001b[0;31mKeyError\u001b[0m: 'does'"
     ]
    }
   ],
   "source": [
    "vocab['does']"
   ]
  },
  {
   "cell_type": "code",
   "execution_count": 82,
   "metadata": {},
   "outputs": [
    {
     "data": {
      "text/plain": [
       "16"
      ]
     },
     "execution_count": 82,
     "metadata": {},
     "output_type": "execute_result"
    }
   ],
   "source": [
    "# whereas words that imploy uncertainty are much more prevalent\n",
    "vocab['might']"
   ]
  },
  {
   "cell_type": "code",
   "execution_count": 83,
   "metadata": {},
   "outputs": [
    {
     "data": {
      "text/plain": [
       "16"
      ]
     },
     "execution_count": 83,
     "metadata": {},
     "output_type": "execute_result"
    }
   ],
   "source": [
    "vocab['could']"
   ]
  },
  {
   "cell_type": "code",
   "execution_count": null,
   "metadata": {},
   "outputs": [],
   "source": []
  }
 ],
 "metadata": {
  "kernelspec": {
   "display_name": "Python 3",
   "language": "python",
   "name": "python3"
  },
  "language_info": {
   "codemirror_mode": {
    "name": "ipython",
    "version": 3
   },
   "file_extension": ".py",
   "mimetype": "text/x-python",
   "name": "python",
   "nbconvert_exporter": "python",
   "pygments_lexer": "ipython3",
   "version": "3.7.3"
  }
 },
 "nbformat": 4,
 "nbformat_minor": 2
}
